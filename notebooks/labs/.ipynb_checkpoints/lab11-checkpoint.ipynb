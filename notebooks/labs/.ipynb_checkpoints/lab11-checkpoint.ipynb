{
 "cells": [
  {
   "cell_type": "code",
   "execution_count": 1,
   "id": "d38bb633-428d-4cdd-8efd-d7f7830fbb87",
   "metadata": {},
   "outputs": [],
   "source": [
    "# Python ≥3.5 is required\n",
    "import sys\n",
    "assert sys.version_info >= (3, 5)\n",
    "\n",
    "# Common imports\n",
    "import numpy as np\n",
    "import os\n",
    "\n",
    "# To plot pretty figures\n",
    "#%matplotlib inline\n",
    "# import matplotlib as mpl\n",
    "import matplotlib.pyplot as plt\n",
    "# mpl.rc('axes', labelsize=14)\n",
    "# mpl.rc('xtick', labelsize=12)\n",
    "# mpl.rc('ytick', labelsize=12)\n",
    "\n",
    "# Where to save the figures\n",
    "PROJECT_ROOT_DIR = \".\"\n",
    "CHAPTER_ID = \"lab11\"\n",
    "IMAGES_PATH = os.path.join(PROJECT_ROOT_DIR, \"images\", CHAPTER_ID)\n",
    "os.makedirs(IMAGES_PATH, exist_ok=True)\n",
    "\n",
    "\n",
    "def get_path(fig_name, fig_extension=\"png\"):\n",
    "    path = os.path.join(IMAGES_PATH, fig_name + \".\" + fig_extension)\n",
    "    return path\n"
   ]
  },
  {
   "cell_type": "code",
   "execution_count": 2,
   "id": "78dcce13-88ac-4e63-a1c2-3748b177fb15",
   "metadata": {},
   "outputs": [],
   "source": [
    "from qiskit import QuantumCircuit, transpile, QuantumRegister,ClassicalRegister\n",
    "from qiskit_aer import AerSimulator\n",
    "from qiskit.visualization import plot_histogram\n",
    "from qiskit.quantum_info import Statevector\n",
    "from qiskit.visualization import plot_bloch_multivector\n",
    "from qiskit.circuit.library import UnitaryGate\n",
    "from qiskit.circuit.library import MCXGate\n",
    "import numpy as np"
   ]
  },
  {
   "cell_type": "markdown",
   "id": "8856c829-e12e-46c6-9a39-1c8fcb961598",
   "metadata": {},
   "source": [
    "# BB84"
   ]
  },
  {
   "cell_type": "code",
   "execution_count": 3,
   "id": "38531ab6-e85b-4527-9837-35127aff2852",
   "metadata": {},
   "outputs": [
    {
     "name": "stdout",
     "output_type": "stream",
     "text": [
      "Alice bits [0 1 1 0 1 1 1 1 1 1 1 0 0 1 0 0 0 0 0 1 0 1 1 0 0 1 1 1 1 0 1 0 1 0 1 1 0\n",
      " 1 1 0 0 1 0 1 1 1 1 1 0 1 0 1 1 1 1 0 1 0 0 1 1 0 1 0 1 0 0 0 0 0 1 1 0 0\n",
      " 0 1 1 0 1 0 0 1 0 1 1 1 1 1 1 0 1 1 0 0 1 0 0 1 1 0]\n"
     ]
    }
   ],
   "source": [
    "np.random.seed(seed=0)\n",
    "n = 100 \n",
    "# Step1 - Alice generates her randoms set of bits\n",
    "alice_bits = np.random.randint(2, size=n)\n",
    "print(f\"Alice bits {alice_bits}\") # only known to Alice"
   ]
  },
  {
   "cell_type": "code",
   "execution_count": 4,
   "id": "20991885-da11-4300-8466-702f80c524f3",
   "metadata": {},
   "outputs": [
    {
     "name": "stdout",
     "output_type": "stream",
     "text": [
      "Alice bases [1 0 0 1 0 0 0 1 1 0 1 0 0 0 0 0 1 0 1 0 1 1 1 1 1 0 1 1 1 1 0 1 1 0 0 1 0\n",
      " 0 0 0 1 1 0 0 1 0 1 1 1 1 0 0 0 1 0 1 1 1 0 1 0 0 1 0 1 1 0 0 1 0 1 0 1 0\n",
      " 1 0 1 0 0 0 1 0 1 0 1 0 0 0 0 0 1 0 0 1 0 0 0 1 0 0]\n"
     ]
    }
   ],
   "source": [
    "#Step 2, alice choose to encode each bit on qubit in the X or Z basis at random and stores the choice for each qubit in alice_bases. 0=prepare in Z-basis, 1=prepare in X basis\n",
    "alice_bases = np.random.randint(2, size=n)\n",
    "print(f\"Alice bases {alice_bases}\")"
   ]
  },
  {
   "cell_type": "code",
   "execution_count": 5,
   "id": "6dbd1900-517a-4267-ab03-c559e7087ec5",
   "metadata": {},
   "outputs": [],
   "source": [
    "def encode_message(bits, bases):\n",
    "    message = []\n",
    "    for i in range(n):\n",
    "        qc = QuantumCircuit(1,1)\n",
    "        if bases[i] == 0: # prepare in Z-basis\n",
    "            if bits[i] == 0: \n",
    "                pass\n",
    "            else:\n",
    "                qc.x(0)\n",
    "        else: #prepare in X basis\n",
    "            if bits[i] == 0:\n",
    "                qc.h(0)\n",
    "            else:\n",
    "                qc.x(0)\n",
    "                qc.h(0)\n",
    "        qc.barrier()\n",
    "        message.append(qc)\n",
    "    return message        "
   ]
  },
  {
   "cell_type": "code",
   "execution_count": 6,
   "id": "f6a4d46b-24d8-46ba-a2a6-0cb00fafa797",
   "metadata": {},
   "outputs": [
    {
     "name": "stdout",
     "output_type": "stream",
     "text": [
      "Bit 0 is encoded in base 1 and the circuit is:\n"
     ]
    },
    {
     "data": {
      "text/html": [
       "<pre style=\"word-wrap: normal;white-space: pre;background: #fff0;line-height: 1.1;font-family: &quot;Courier New&quot;,Courier,monospace\">     ┌───┐ ░ \n",
       "  q: ┤ H ├─░─\n",
       "     └───┘ ░ \n",
       "c: 1/════════\n",
       "             </pre>"
      ],
      "text/plain": [
       "     ┌───┐ ░ \n",
       "  q: ┤ H ├─░─\n",
       "     └───┘ ░ \n",
       "c: 1/════════\n",
       "             "
      ]
     },
     "execution_count": 6,
     "metadata": {},
     "output_type": "execute_result"
    }
   ],
   "source": [
    "message = encode_message(alice_bits, alice_bases)\n",
    "print(f\"Bit {alice_bits[0]} is encoded in base {alice_bases[0]} and the circuit is:\")\n",
    "message[0].draw()"
   ]
  },
  {
   "cell_type": "code",
   "execution_count": 7,
   "id": "a9b64ee5-d492-4eeb-ae86-dae9f07deadf",
   "metadata": {},
   "outputs": [],
   "source": [
    "#Step 3, bob receives the message and measures each qubit in the X or Z basis, at random and stores this information\n",
    "bob_bases = np.random.randint(2, size=n)"
   ]
  },
  {
   "cell_type": "code",
   "execution_count": 8,
   "id": "13a4b8a0-caec-400e-a037-86b225cbdb58",
   "metadata": {},
   "outputs": [],
   "source": [
    "def measure_message(message, bases):\n",
    "    measurements = []\n",
    "    for q in range(n):\n",
    "        if bases[q] == 0: #measuring in Z-basis\n",
    "            message[q].measure(0,0)\n",
    "        if bases[q] == 1: # measuring in the X-basis\n",
    "            message[q].h(0)\n",
    "            message[q].measure(0,0)\n",
    "        simulator = AerSimulator()\n",
    "        qcirc = transpile(message[q], simulator)\n",
    "        result = simulator.run(qcirc,shots=1, memory=True).result()\n",
    "        measured_bit = int(result.get_memory()[0])\n",
    "        measurements.append(measured_bit)\n",
    "    return measurements"
   ]
  },
  {
   "cell_type": "code",
   "execution_count": 9,
   "id": "fd45cabf-29b7-4e62-8a4d-9337b89466d6",
   "metadata": {},
   "outputs": [
    {
     "name": "stdout",
     "output_type": "stream",
     "text": [
      "[0, 1, 1, 1, 1, 1, 0, 0, 0, 1, 1, 1, 0, 1, 0, 0, 1, 0, 1, 1, 1, 0, 1, 0, 0, 0, 0, 1, 1, 0, 1, 0, 0, 0, 1, 1, 1, 1, 0, 0, 1, 1, 0, 0, 1, 1, 1, 1, 0, 0, 1, 1, 1, 0, 0, 0, 1, 0, 0, 0, 0, 0, 0, 0, 1, 0, 0, 0, 0, 0, 1, 1, 0, 0, 0, 1, 1, 0, 0, 0, 0, 0, 1, 1, 1, 1, 1, 1, 0, 1, 1, 0, 0, 0, 1, 0, 0, 0, 1, 0]\n"
     ]
    }
   ],
   "source": [
    "bob_results = measure_message(message, bob_bases)\n",
    "message[0].draw()\n",
    "# Bob keeps the results private:\n",
    "print(bob_results)"
   ]
  },
  {
   "cell_type": "code",
   "execution_count": 10,
   "id": "4ab2051a-e08f-4188-8b62-78e22883e647",
   "metadata": {},
   "outputs": [
    {
     "name": "stdout",
     "output_type": "stream",
     "text": [
      "Alice's key: [0, 1, 1, 1, 1, 0, 1, 0, 0, 0, 0, 1, 0, 0, 0, 1, 1, 1, 0, 1, 0, 1, 1, 0, 1, 0, 0, 0, 0, 0, 0, 1, 0, 0, 1, 1, 0, 0, 0, 1, 1, 1, 1, 0, 0, 1, 0, 0]\n",
      "Bob's key: [0, 1, 1, 1, 1, 0, 1, 0, 0, 0, 0, 1, 0, 0, 0, 1, 1, 1, 0, 1, 0, 1, 1, 0, 1, 0, 0, 0, 0, 0, 0, 1, 0, 0, 1, 1, 0, 0, 0, 1, 1, 1, 1, 0, 0, 1, 0, 0]\n"
     ]
    }
   ],
   "source": [
    "# Step 4\n",
    "# Alice reveals wich qubits where encoded in which basis, basically she shares the base, and Bob do the sames.\n",
    "# Now, both having informations regarding the basis, they will remove the garbage qubits that don't match\n",
    "def remove_garbage(a_bases, b_bases, bits):\n",
    "    good_bits = []\n",
    "    for q in range(n):\n",
    "        if a_bases[q] == b_bases[q]:\n",
    "            good_bits.append(int(bits[q]))\n",
    "    return good_bits\n",
    "alice_key = remove_garbage(alice_bases, bob_bases, alice_bits)\n",
    "print(f\"Alice's key: {alice_key}\")\n",
    "bob_key = remove_garbage(alice_bases, bob_bases,bob_results)\n",
    "print(f\"Bob's key: {bob_key}\")"
   ]
  },
  {
   "cell_type": "code",
   "execution_count": 11,
   "id": "02445760-c369-46ff-b856-1151efd45235",
   "metadata": {},
   "outputs": [
    {
     "name": "stdout",
     "output_type": "stream",
     "text": [
      "  bob_sample = [0, 1, 0, 1, 1, 0, 0, 0, 0, 0, 0, 1, 0, 0, 0]\n",
      "alice_sample = [0, 1, 0, 1, 1, 0, 0, 0, 0, 0, 0, 1, 0, 0, 0]\n",
      "[1, 1, 0, 1, 0, 0, 1, 0, 1, 1, 1, 0, 1, 1, 1, 0, 1, 0, 0, 1, 0, 0, 1, 1, 0, 0, 0, 1, 1, 0, 1, 0, 0]\n",
      "[1, 1, 0, 1, 0, 0, 1, 0, 1, 1, 1, 0, 1, 1, 1, 0, 1, 0, 0, 1, 0, 0, 1, 1, 0, 0, 0, 1, 1, 0, 1, 0, 0]\n",
      "key length = 33\n"
     ]
    }
   ],
   "source": [
    "# Step 5 - Alice and Bob compare a random selection of the bits in their keys to make sure the protocol has worked perfectly\n",
    "def sample_bits(bits, selection):\n",
    "    sample = []\n",
    "    for i in selection:\n",
    "        # use np.mod to make sure the bit we sample is always in the list range\n",
    "        i = np.mod(i, len(bits))\n",
    "        #pop removes the element of the list at index i\n",
    "        sample.append(bits.pop(i))\n",
    "    return sample\n",
    "\n",
    "sample_size = 15\n",
    "bit_selection = np.random.randint(n, size=sample_size)\n",
    "\n",
    "bob_sample = sample_bits(bob_key, bit_selection)\n",
    "print(\"  bob_sample = \" + str(bob_sample))\n",
    "alice_sample = sample_bits(alice_key, bit_selection)\n",
    "print(\"alice_sample = \"+ str(alice_sample))\n",
    "\n",
    "print(bob_key)\n",
    "print(alice_key)\n",
    "print(\"key length = %i\" % len(alice_key))"
   ]
  },
  {
   "cell_type": "markdown",
   "id": "7c65c377-6c02-49fa-b448-c6370509a168",
   "metadata": {},
   "source": [
    "# B92"
   ]
  },
  {
   "cell_type": "code",
   "execution_count": 12,
   "id": "758c59d2-1979-4779-a9d4-ba02c5db4f45",
   "metadata": {},
   "outputs": [
    {
     "name": "stdout",
     "output_type": "stream",
     "text": [
      "Alice bits [0 1 1 0 1 1 1 1 1 1 1 0 0 1 0 0 0 0 0 1 0 1 1 0 0 1 1 1 1 0 1 0 1 0 1 1 0\n",
      " 1 1 0 0 1 0 1 1 1 1 1 0 1 0 1 1 1 1 0 1 0 0 1 1 0 1 0 1 0 0 0 0 0 1 1 0 0\n",
      " 0 1 1 0 1 0 0 1 0 1 1 1 1 1 1 0 1 1 0 0 1 0 0 1 1 0]\n"
     ]
    }
   ],
   "source": [
    "np.random.seed(seed=0)\n",
    "n = 100 \n",
    "# Step1 - Alice generates her randoms set of bits\n",
    "alice_bits = np.random.randint(2, size=n)\n",
    "print(f\"Alice bits {alice_bits}\") # only known to Alice"
   ]
  },
  {
   "cell_type": "code",
   "execution_count": 13,
   "id": "38ba0937-5010-41b9-8b16-6c9cbbf6aae5",
   "metadata": {},
   "outputs": [],
   "source": [
    "def b92_encode_message(bits):\n",
    "    message = []\n",
    "    for i in range(n):\n",
    "        qc = QuantumCircuit(1,1)\n",
    "        if bits[i] == 0:\n",
    "            pass\n",
    "        else:\n",
    "            qc.h(0)\n",
    "        qc.barrier()\n",
    "        message.append(qc)\n",
    "    return message        \n",
    "\n"
   ]
  },
  {
   "cell_type": "code",
   "execution_count": 14,
   "id": "946537c0-d503-4b54-a801-f44d46270c43",
   "metadata": {},
   "outputs": [
    {
     "name": "stdout",
     "output_type": "stream",
     "text": [
      "Bit 0 the circuit is:\n"
     ]
    },
    {
     "data": {
      "text/html": [
       "<pre style=\"word-wrap: normal;white-space: pre;background: #fff0;line-height: 1.1;font-family: &quot;Courier New&quot;,Courier,monospace\">      ░ \n",
       "  q: ─░─\n",
       "      ░ \n",
       "c: 1/═══\n",
       "        </pre>"
      ],
      "text/plain": [
       "      ░ \n",
       "  q: ─░─\n",
       "      ░ \n",
       "c: 1/═══\n",
       "        "
      ]
     },
     "execution_count": 14,
     "metadata": {},
     "output_type": "execute_result"
    }
   ],
   "source": [
    "message = b92_encode_message(alice_bits)\n",
    "print(f\"Bit {alice_bits[0]} the circuit is:\")\n",
    "message[0].draw()"
   ]
  },
  {
   "cell_type": "code",
   "execution_count": 15,
   "id": "1bab0a95-e1f3-4592-bab6-f78f80ed9188",
   "metadata": {},
   "outputs": [],
   "source": [
    "bob_bases = np.random.randint(2, size=n)"
   ]
  },
  {
   "cell_type": "code",
   "execution_count": 16,
   "id": "f2e39472-9702-4f0b-ad82-aff3833a2634",
   "metadata": {},
   "outputs": [],
   "source": [
    "def b92_measure_message(message, bases):\n",
    "    measurements = []\n",
    "    for q in range(n):\n",
    "        if bases[q] == 0: #measuring in Z-basis\n",
    "            message[q].measure(0,0)\n",
    "        if bases[q] == 1: # measuring in the X-basis\n",
    "            message[q].h(0)\n",
    "            message[q].measure(0,0)\n",
    "        simulator = AerSimulator()\n",
    "        qcirc = transpile(message[q], simulator)\n",
    "        result = simulator.run(qcirc,shots=1, memory=True).result()\n",
    "        measured_bit = int(result.get_memory()[0])\n",
    "        measurements.append(measured_bit)\n",
    "    return measurements"
   ]
  },
  {
   "cell_type": "code",
   "execution_count": 17,
   "id": "31d0570e-38c7-439b-b4f1-b5d6d175ba14",
   "metadata": {},
   "outputs": [
    {
     "name": "stdout",
     "output_type": "stream",
     "text": [
      "[1, 1, 0, 0, 1, 1, 1, 0, 0, 0, 0, 0, 0, 0, 0, 0, 1, 0, 1, 0, 0, 0, 0, 1, 1, 0, 0, 0, 0, 0, 1, 1, 0, 0, 1, 0, 0, 1, 1, 0, 0, 0, 0, 0, 0, 1, 0, 0, 1, 0, 0, 1, 0, 0, 1, 1, 0, 1, 0, 0, 1, 0, 0, 0, 0, 0, 0, 0, 1, 0, 0, 1, 1, 0, 0, 1, 0, 0, 0, 0, 1, 1, 0, 0, 0, 0, 1, 0, 1, 0, 0, 1, 0, 0, 1, 0, 0, 0, 0, 0]\n"
     ]
    }
   ],
   "source": [
    "bob_results = b92_measure_message(message, bob_bases)\n",
    "message[0].draw()\n",
    "# Bob keeps the results private:\n",
    "print(bob_results)"
   ]
  },
  {
   "cell_type": "code",
   "execution_count": 18,
   "id": "a2f27896-cec1-43c7-89cb-399656d3a796",
   "metadata": {},
   "outputs": [
    {
     "name": "stdout",
     "output_type": "stream",
     "text": [
      "Alice's key: [1, 0, 0, 0, 0, 1, 1, 1, 1, 0, 1, 0, 0, 0, 0, 1, 0, 0, 1, 1, 0, 1, 0, 1, 0, 1, 0, 0, 0, 0, 0]\n",
      "Bob's key: [1, 0, 0, 0, 0, 1, 1, 1, 1, 0, 1, 0, 0, 0, 0, 1, 0, 0, 1, 1, 0, 1, 0, 1, 0, 1, 0, 0, 0, 0, 0]\n"
     ]
    }
   ],
   "source": [
    "# Step 4\n",
    "# Alice reveals wich qubits where encoded in which basis, basically she shares the base, and Bob do the sames.\n",
    "# Now, both having informations regarding the basis, they will remove the garbage qubits that don't match\n",
    "def b92_remove_garbage(a_bases, bits):\n",
    "    good_bits = []\n",
    "    for q in range(n):\n",
    "        if bits[q]==1:\n",
    "            good_bits.append(int(a_bases[q]))\n",
    "    return good_bits\n",
    "alice_key = b92_remove_garbage(alice_bases, bob_results)\n",
    "print(f\"Alice's key: {alice_key}\")\n",
    "bob_key = b92_remove_garbage(bob_bases,bob_results)\n",
    "print(f\"Bob's key: {bob_key}\")"
   ]
  },
  {
   "cell_type": "code",
   "execution_count": 19,
   "id": "b39ff263-a483-4408-9492-b8bc4bbf3e1b",
   "metadata": {},
   "outputs": [
    {
     "name": "stdout",
     "output_type": "stream",
     "text": [
      "  bob_sample = [0, 0, 0, 0, 0, 1, 0, 1, 1, 1, 1, 0, 0, 1, 0]\n",
      "alice_sample = [0, 0, 0, 0, 0, 1, 0, 1, 1, 1, 1, 0, 0, 1, 0]\n",
      "[1, 0, 0, 1, 1, 0, 0, 0, 1, 1, 1, 0, 0, 0, 0, 0]\n",
      "[1, 0, 0, 1, 1, 0, 0, 0, 1, 1, 1, 0, 0, 0, 0, 0]\n",
      "key length = 16\n"
     ]
    }
   ],
   "source": [
    "# Step 5 - Alice and Bob compare a random selection of the bits in their keys to make sure the protocol has worked perfectly\n",
    "def sample_bits(bits, selection):\n",
    "    sample = []\n",
    "    for i in selection:\n",
    "        # use np.mod to make sure the bit we sample is always in the list range\n",
    "        i = np.mod(i, len(bits))\n",
    "        #pop removes the element of the list at index i\n",
    "        sample.append(bits.pop(i))\n",
    "    return sample\n",
    "\n",
    "sample_size = 15\n",
    "bit_selection = np.random.randint(n, size=sample_size)\n",
    "\n",
    "bob_sample = sample_bits(bob_key, bit_selection)\n",
    "print(\"  bob_sample = \" + str(bob_sample))\n",
    "alice_sample = sample_bits(alice_key, bit_selection)\n",
    "print(\"alice_sample = \"+ str(alice_sample))\n",
    "\n",
    "print(bob_key)\n",
    "print(alice_key)\n",
    "print(\"key length = %i\" % len(alice_key))"
   ]
  },
  {
   "cell_type": "code",
   "execution_count": null,
   "id": "ca956f60-6836-46da-b599-fc559b90cd6e",
   "metadata": {},
   "outputs": [],
   "source": []
  }
 ],
 "metadata": {
  "kernelspec": {
   "display_name": "Python 3 (ipykernel)",
   "language": "python",
   "name": "python3"
  },
  "language_info": {
   "codemirror_mode": {
    "name": "ipython",
    "version": 3
   },
   "file_extension": ".py",
   "mimetype": "text/x-python",
   "name": "python",
   "nbconvert_exporter": "python",
   "pygments_lexer": "ipython3",
   "version": "3.13.5"
  }
 },
 "nbformat": 4,
 "nbformat_minor": 5
}
